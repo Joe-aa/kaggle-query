{
 "cells": [
  {
   "cell_type": "code",
   "execution_count": 24,
   "metadata": {},
   "outputs": [],
   "source": [
    "import os\n",
    "import random\n",
    "from kaggle.api.kaggle_api_extended import KaggleApi"
   ]
  },
  {
   "cell_type": "code",
   "execution_count": 25,
   "metadata": {},
   "outputs": [],
   "source": [
    "\n",
    "def get_kaggle_dataset():\n",
    "    \"\"\"pick a random dataset from kaggle - Does NOT download data (yet)\"\"\"\n",
    "\n",
    "    # connect to kaggle\n",
    "    api = KaggleApi()\n",
    "    api.authenticate()\n",
    "    \n",
    "    # get info about all the datasets\n",
    "    datasets = api.dataset_list()\n",
    "\n",
    "    # randomly pick one\n",
    "    # random.choice picks uniformly at random. if there are N total datasets, the probability of picking any one particular dataset is 1/N\n",
    "    dataset = random.choice(datasets)\n",
    "    \n",
    "    # print basic information\n",
    "    print(f\"Selected dataset: {dataset.title}\")\n",
    "    print(f\"Description: {dataset.subtitle}\")\n",
    "\n",
    "    return dataset\n",
    "    \n",
    "    # download\n",
    "    # api.dataset_download_files(dataset.ref, path=download_path, unzip=True)\n"
   ]
  },
  {
   "cell_type": "code",
   "execution_count": null,
   "metadata": {},
   "outputs": [],
   "source": [
    "# its a good start from just an idea to make picking a dataset from kaggle somewhat easier\n",
    "# right now all it does is pick a dataset randomly\n",
    "# but i may want to take this further."
   ]
  },
  {
   "cell_type": "code",
   "execution_count": 26,
   "metadata": {},
   "outputs": [
    {
     "name": "stdout",
     "output_type": "stream",
     "text": [
      "Warning: Looks like you're using an outdated API Version, please consider updating (server 1.6.12 / client 1.5.16)\n",
      "Selected dataset: world’s wildlife?\n",
      "Description: Why is improving agricultural productivity crucial\n"
     ]
    }
   ],
   "source": [
    "testdata = get_kaggle_dataset()"
   ]
  },
  {
   "cell_type": "code",
   "execution_count": 27,
   "metadata": {},
   "outputs": [
    {
     "data": {
      "text/plain": [
       "[finance, banking, agriculture, food]"
      ]
     },
     "execution_count": 27,
     "metadata": {},
     "output_type": "execute_result"
    }
   ],
   "source": [
    "testdata.tags"
   ]
  },
  {
   "cell_type": "code",
   "execution_count": 30,
   "metadata": {},
   "outputs": [
    {
     "name": "stdout",
     "output_type": "stream",
     "text": [
      "92KB\n"
     ]
    }
   ],
   "source": [
    "print(testdata.size)"
   ]
  },
  {
   "cell_type": "code",
   "execution_count": null,
   "metadata": {},
   "outputs": [],
   "source": []
  }
 ],
 "metadata": {
  "kernelspec": {
   "display_name": "basic",
   "language": "python",
   "name": "python3"
  },
  "language_info": {
   "codemirror_mode": {
    "name": "ipython",
    "version": 3
   },
   "file_extension": ".py",
   "mimetype": "text/x-python",
   "name": "python",
   "nbconvert_exporter": "python",
   "pygments_lexer": "ipython3",
   "version": "3.11.7"
  },
  "orig_nbformat": 4
 },
 "nbformat": 4,
 "nbformat_minor": 2
}
